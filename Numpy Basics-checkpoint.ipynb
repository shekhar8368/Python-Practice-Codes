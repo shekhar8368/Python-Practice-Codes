{
 "cells": [
  {
   "cell_type": "markdown",
   "id": "b4dd5d70",
   "metadata": {},
   "source": [
    "# Numpy"
   ]
  },
  {
   "cell_type": "code",
   "execution_count": 34,
   "id": "a6d7be91",
   "metadata": {},
   "outputs": [],
   "source": [
    "import numpy as np\n",
    "import pandas as pd"
   ]
  },
  {
   "cell_type": "code",
   "execution_count": 2,
   "id": "c8681cd7",
   "metadata": {},
   "outputs": [],
   "source": [
    "l = [1,2,3,\"she\"]"
   ]
  },
  {
   "cell_type": "code",
   "execution_count": 3,
   "id": "8960d4d0",
   "metadata": {},
   "outputs": [
    {
     "data": {
      "text/plain": [
       "list"
      ]
     },
     "execution_count": 3,
     "metadata": {},
     "output_type": "execute_result"
    }
   ],
   "source": [
    "type(l)"
   ]
  },
  {
   "cell_type": "code",
   "execution_count": 6,
   "id": "b3da62b5",
   "metadata": {},
   "outputs": [
    {
     "data": {
      "text/plain": [
       "array(['1', '2', '3', 'she'], dtype='<U11')"
      ]
     },
     "execution_count": 6,
     "metadata": {},
     "output_type": "execute_result"
    }
   ],
   "source": [
    "np.array(l)"
   ]
  },
  {
   "cell_type": "code",
   "execution_count": 7,
   "id": "31c8bfd4",
   "metadata": {},
   "outputs": [
    {
     "data": {
      "text/plain": [
       "numpy.ndarray"
      ]
     },
     "execution_count": 7,
     "metadata": {},
     "output_type": "execute_result"
    }
   ],
   "source": [
    "type(np.array(l))"
   ]
  },
  {
   "cell_type": "code",
   "execution_count": 112,
   "id": "b731eb21",
   "metadata": {},
   "outputs": [],
   "source": [
    "b = np.array([[[4,5,5],[5,8,49]]],dtype=float)"
   ]
  },
  {
   "cell_type": "code",
   "execution_count": 113,
   "id": "a215296a",
   "metadata": {},
   "outputs": [
    {
     "data": {
      "text/plain": [
       "array([[[ 4.,  5.,  5.],\n",
       "        [ 5.,  8., 49.]]])"
      ]
     },
     "execution_count": 113,
     "metadata": {},
     "output_type": "execute_result"
    }
   ],
   "source": [
    "b"
   ]
  },
  {
   "cell_type": "code",
   "execution_count": 10,
   "id": "ebb53fd3",
   "metadata": {},
   "outputs": [
    {
     "data": {
      "text/plain": [
       "array([[ 4.,  5.,  5.],\n",
       "       [ 5.,  8., 49.]])"
      ]
     },
     "execution_count": 10,
     "metadata": {},
     "output_type": "execute_result"
    }
   ],
   "source": [
    "b[0]"
   ]
  },
  {
   "cell_type": "code",
   "execution_count": 11,
   "id": "6b99b069",
   "metadata": {},
   "outputs": [
    {
     "data": {
      "text/plain": [
       "array([ 5.,  8., 49.])"
      ]
     },
     "execution_count": 11,
     "metadata": {},
     "output_type": "execute_result"
    }
   ],
   "source": [
    "b[0][1] "
   ]
  },
  {
   "cell_type": "code",
   "execution_count": 12,
   "id": "e767579f",
   "metadata": {},
   "outputs": [
    {
     "data": {
      "text/plain": [
       "49.0"
      ]
     },
     "execution_count": 12,
     "metadata": {},
     "output_type": "execute_result"
    }
   ],
   "source": [
    "b[0][1][2]  #Indexing"
   ]
  },
  {
   "cell_type": "code",
   "execution_count": 13,
   "id": "95ad9b6e",
   "metadata": {},
   "outputs": [],
   "source": [
    "b0 = np.asanyarray([[2,3],[35,56]])"
   ]
  },
  {
   "cell_type": "code",
   "execution_count": 14,
   "id": "101e41be",
   "metadata": {},
   "outputs": [
    {
     "data": {
      "text/plain": [
       "array([[ 2,  3],\n",
       "       [35, 56]])"
      ]
     },
     "execution_count": 14,
     "metadata": {},
     "output_type": "execute_result"
    }
   ],
   "source": [
    "b0"
   ]
  },
  {
   "cell_type": "code",
   "execution_count": 15,
   "id": "efe4e93d",
   "metadata": {},
   "outputs": [
    {
     "data": {
      "text/plain": [
       "56"
      ]
     },
     "execution_count": 15,
     "metadata": {},
     "output_type": "execute_result"
    }
   ],
   "source": [
    "b0[1][1]  #Indexing"
   ]
  },
  {
   "cell_type": "code",
   "execution_count": 16,
   "id": "10dc0548",
   "metadata": {},
   "outputs": [],
   "source": [
    "mat = np.mat([[2,5,5],[56,86,35],[543,5,54]])"
   ]
  },
  {
   "cell_type": "code",
   "execution_count": 17,
   "id": "727953ef",
   "metadata": {},
   "outputs": [
    {
     "data": {
      "text/plain": [
       "matrix([[  2,   5,   5],\n",
       "        [ 56,  86,  35],\n",
       "        [543,   5,  54]])"
      ]
     },
     "execution_count": 17,
     "metadata": {},
     "output_type": "execute_result"
    }
   ],
   "source": [
    "mat"
   ]
  },
  {
   "cell_type": "code",
   "execution_count": 18,
   "id": "6228520a",
   "metadata": {},
   "outputs": [],
   "source": [
    "amat = np.array(mat)"
   ]
  },
  {
   "cell_type": "code",
   "execution_count": 19,
   "id": "3f5dea78",
   "metadata": {},
   "outputs": [
    {
     "data": {
      "text/plain": [
       "array([[  2,   5,   5],\n",
       "       [ 56,  86,  35],\n",
       "       [543,   5,  54]])"
      ]
     },
     "execution_count": 19,
     "metadata": {},
     "output_type": "execute_result"
    }
   ],
   "source": [
    "amat"
   ]
  },
  {
   "cell_type": "code",
   "execution_count": 20,
   "id": "c3fbe118",
   "metadata": {},
   "outputs": [
    {
     "data": {
      "text/plain": [
       "86"
      ]
     },
     "execution_count": 20,
     "metadata": {},
     "output_type": "execute_result"
    }
   ],
   "source": [
    "amat[1][1]"
   ]
  },
  {
   "cell_type": "code",
   "execution_count": 21,
   "id": "e49a0f4c",
   "metadata": {},
   "outputs": [
    {
     "data": {
      "text/plain": [
       "array([[ True, False, False, False, False],\n",
       "       [False,  True, False, False, False],\n",
       "       [False, False,  True, False, False],\n",
       "       [False, False, False,  True, False]])"
      ]
     },
     "execution_count": 21,
     "metadata": {},
     "output_type": "execute_result"
    }
   ],
   "source": [
    "np.fromfunction(lambda x,y : x==y, (4,5))"
   ]
  },
  {
   "cell_type": "code",
   "execution_count": 22,
   "id": "d9b2033d",
   "metadata": {},
   "outputs": [],
   "source": [
    "def func(x,y):\n",
    "    x==y\n",
    "    return x==y"
   ]
  },
  {
   "cell_type": "code",
   "execution_count": 23,
   "id": "2b78e082",
   "metadata": {},
   "outputs": [],
   "source": [
    "n = np.fromfunction(func,(4,5))"
   ]
  },
  {
   "cell_type": "code",
   "execution_count": 24,
   "id": "357f5521",
   "metadata": {},
   "outputs": [
    {
     "data": {
      "text/plain": [
       "array([[ True, False, False, False, False],\n",
       "       [False,  True, False, False, False],\n",
       "       [False, False,  True, False, False],\n",
       "       [False, False, False,  True, False]])"
      ]
     },
     "execution_count": 24,
     "metadata": {},
     "output_type": "execute_result"
    }
   ],
   "source": [
    "n"
   ]
  },
  {
   "cell_type": "code",
   "execution_count": 25,
   "id": "67a344bd",
   "metadata": {},
   "outputs": [],
   "source": [
    "a = np.fromfunction(lambda i,j,z : i*j*z , (2,4,5))"
   ]
  },
  {
   "cell_type": "code",
   "execution_count": 26,
   "id": "edda79c3",
   "metadata": {},
   "outputs": [
    {
     "data": {
      "text/plain": [
       "array([[[ 0.,  0.,  0.,  0.,  0.],\n",
       "        [ 0.,  0.,  0.,  0.,  0.],\n",
       "        [ 0.,  0.,  0.,  0.,  0.],\n",
       "        [ 0.,  0.,  0.,  0.,  0.]],\n",
       "\n",
       "       [[ 0.,  0.,  0.,  0.,  0.],\n",
       "        [ 0.,  1.,  2.,  3.,  4.],\n",
       "        [ 0.,  2.,  4.,  6.,  8.],\n",
       "        [ 0.,  3.,  6.,  9., 12.]]])"
      ]
     },
     "execution_count": 26,
     "metadata": {},
     "output_type": "execute_result"
    }
   ],
   "source": [
    "a"
   ]
  },
  {
   "cell_type": "code",
   "execution_count": 27,
   "id": "eed39c3e",
   "metadata": {},
   "outputs": [
    {
     "data": {
      "text/plain": [
       "3"
      ]
     },
     "execution_count": 27,
     "metadata": {},
     "output_type": "execute_result"
    }
   ],
   "source": [
    "a.ndim"
   ]
  },
  {
   "cell_type": "code",
   "execution_count": 28,
   "id": "359c6167",
   "metadata": {},
   "outputs": [
    {
     "data": {
      "text/plain": [
       "40"
      ]
     },
     "execution_count": 28,
     "metadata": {},
     "output_type": "execute_result"
    }
   ],
   "source": [
    "a.size"
   ]
  },
  {
   "cell_type": "code",
   "execution_count": 29,
   "id": "8fb6531d",
   "metadata": {},
   "outputs": [
    {
     "data": {
      "text/plain": [
       "(2, 4, 5)"
      ]
     },
     "execution_count": 29,
     "metadata": {},
     "output_type": "execute_result"
    }
   ],
   "source": [
    "a.shape"
   ]
  },
  {
   "cell_type": "code",
   "execution_count": 30,
   "id": "7002dc30",
   "metadata": {},
   "outputs": [],
   "source": [
    "a1 = a.reshape(10,-1)"
   ]
  },
  {
   "cell_type": "code",
   "execution_count": 31,
   "id": "0a7dad34",
   "metadata": {},
   "outputs": [
    {
     "data": {
      "text/plain": [
       "array([[ 0.,  0.,  0.,  0.],\n",
       "       [ 0.,  0.,  0.,  0.],\n",
       "       [ 0.,  0.,  0.,  0.],\n",
       "       [ 0.,  0.,  0.,  0.],\n",
       "       [ 0.,  0.,  0.,  0.],\n",
       "       [ 0.,  0.,  0.,  0.],\n",
       "       [ 0.,  0.,  1.,  2.],\n",
       "       [ 3.,  4.,  0.,  2.],\n",
       "       [ 4.,  6.,  8.,  0.],\n",
       "       [ 3.,  6.,  9., 12.]])"
      ]
     },
     "execution_count": 31,
     "metadata": {},
     "output_type": "execute_result"
    }
   ],
   "source": [
    "a1"
   ]
  },
  {
   "cell_type": "code",
   "execution_count": 36,
   "id": "2291f910",
   "metadata": {},
   "outputs": [
    {
     "data": {
      "text/html": [
       "<div>\n",
       "<style scoped>\n",
       "    .dataframe tbody tr th:only-of-type {\n",
       "        vertical-align: middle;\n",
       "    }\n",
       "\n",
       "    .dataframe tbody tr th {\n",
       "        vertical-align: top;\n",
       "    }\n",
       "\n",
       "    .dataframe thead th {\n",
       "        text-align: right;\n",
       "    }\n",
       "</style>\n",
       "<table border=\"1\" class=\"dataframe\">\n",
       "  <thead>\n",
       "    <tr style=\"text-align: right;\">\n",
       "      <th></th>\n",
       "      <th>0</th>\n",
       "      <th>1</th>\n",
       "      <th>2</th>\n",
       "      <th>3</th>\n",
       "    </tr>\n",
       "  </thead>\n",
       "  <tbody>\n",
       "    <tr>\n",
       "      <th>0</th>\n",
       "      <td>0.0</td>\n",
       "      <td>0.0</td>\n",
       "      <td>0.0</td>\n",
       "      <td>0.0</td>\n",
       "    </tr>\n",
       "    <tr>\n",
       "      <th>1</th>\n",
       "      <td>0.0</td>\n",
       "      <td>0.0</td>\n",
       "      <td>0.0</td>\n",
       "      <td>0.0</td>\n",
       "    </tr>\n",
       "    <tr>\n",
       "      <th>2</th>\n",
       "      <td>0.0</td>\n",
       "      <td>0.0</td>\n",
       "      <td>0.0</td>\n",
       "      <td>0.0</td>\n",
       "    </tr>\n",
       "    <tr>\n",
       "      <th>3</th>\n",
       "      <td>0.0</td>\n",
       "      <td>0.0</td>\n",
       "      <td>0.0</td>\n",
       "      <td>0.0</td>\n",
       "    </tr>\n",
       "    <tr>\n",
       "      <th>4</th>\n",
       "      <td>0.0</td>\n",
       "      <td>0.0</td>\n",
       "      <td>0.0</td>\n",
       "      <td>0.0</td>\n",
       "    </tr>\n",
       "    <tr>\n",
       "      <th>5</th>\n",
       "      <td>0.0</td>\n",
       "      <td>0.0</td>\n",
       "      <td>0.0</td>\n",
       "      <td>0.0</td>\n",
       "    </tr>\n",
       "    <tr>\n",
       "      <th>6</th>\n",
       "      <td>0.0</td>\n",
       "      <td>0.0</td>\n",
       "      <td>1.0</td>\n",
       "      <td>2.0</td>\n",
       "    </tr>\n",
       "    <tr>\n",
       "      <th>7</th>\n",
       "      <td>3.0</td>\n",
       "      <td>4.0</td>\n",
       "      <td>0.0</td>\n",
       "      <td>2.0</td>\n",
       "    </tr>\n",
       "    <tr>\n",
       "      <th>8</th>\n",
       "      <td>4.0</td>\n",
       "      <td>6.0</td>\n",
       "      <td>8.0</td>\n",
       "      <td>0.0</td>\n",
       "    </tr>\n",
       "    <tr>\n",
       "      <th>9</th>\n",
       "      <td>3.0</td>\n",
       "      <td>6.0</td>\n",
       "      <td>9.0</td>\n",
       "      <td>12.0</td>\n",
       "    </tr>\n",
       "  </tbody>\n",
       "</table>\n",
       "</div>"
      ],
      "text/plain": [
       "     0    1    2     3\n",
       "0  0.0  0.0  0.0   0.0\n",
       "1  0.0  0.0  0.0   0.0\n",
       "2  0.0  0.0  0.0   0.0\n",
       "3  0.0  0.0  0.0   0.0\n",
       "4  0.0  0.0  0.0   0.0\n",
       "5  0.0  0.0  0.0   0.0\n",
       "6  0.0  0.0  1.0   2.0\n",
       "7  3.0  4.0  0.0   2.0\n",
       "8  4.0  6.0  8.0   0.0\n",
       "9  3.0  6.0  9.0  12.0"
      ]
     },
     "execution_count": 36,
     "metadata": {},
     "output_type": "execute_result"
    }
   ],
   "source": [
    "pd.DataFrame(a1)"
   ]
  },
  {
   "cell_type": "code",
   "execution_count": 38,
   "id": "5d6f3c98",
   "metadata": {},
   "outputs": [
    {
     "data": {
      "text/plain": [
       "array([[0.8330274 , 0.89928133, 0.10470658, 0.98121104],\n",
       "       [0.58580299, 0.9943996 , 0.48722103, 0.40851657],\n",
       "       [0.19861881, 0.44005561, 0.35384971, 0.51374398],\n",
       "       [0.87232354, 0.06241972, 0.81174667, 0.5533661 ]])"
      ]
     },
     "execution_count": 38,
     "metadata": {},
     "output_type": "execute_result"
    }
   ],
   "source": [
    "np.random.rand(4,4)"
   ]
  },
  {
   "cell_type": "code",
   "execution_count": 39,
   "id": "dcadef49",
   "metadata": {},
   "outputs": [
    {
     "data": {
      "text/plain": [
       "9"
      ]
     },
     "execution_count": 39,
     "metadata": {},
     "output_type": "execute_result"
    }
   ],
   "source": [
    "np.random.randint(5,10)"
   ]
  },
  {
   "cell_type": "code",
   "execution_count": 40,
   "id": "d733dbdf",
   "metadata": {},
   "outputs": [
    {
     "data": {
      "text/plain": [
       "array([[ 0.92961665, -1.29168629, -1.19083312, -1.1682174 ,  0.40571063,\n",
       "        -0.70824643],\n",
       "       [ 1.43832115,  0.84027953,  0.60312604, -0.66827662,  2.09203552,\n",
       "        -2.4588851 ],\n",
       "       [ 0.02912773, -0.44675529,  0.44972542,  0.06419315,  0.54037321,\n",
       "        -0.05583067],\n",
       "       [-1.50069108, -0.49522517, -0.52417862,  3.08027922,  0.56986461,\n",
       "        -0.39438411]])"
      ]
     },
     "execution_count": 40,
     "metadata": {},
     "output_type": "execute_result"
    }
   ],
   "source": [
    "np.random.randn(4,6)"
   ]
  },
  {
   "cell_type": "code",
   "execution_count": 41,
   "id": "242713a3",
   "metadata": {},
   "outputs": [
    {
     "data": {
      "text/plain": [
       "array([ 5. ,  5.3,  5.6,  5.9,  6.2,  6.5,  6.8,  7.1,  7.4,  7.7,  8. ,\n",
       "        8.3,  8.6,  8.9,  9.2,  9.5,  9.8, 10.1, 10.4])"
      ]
     },
     "execution_count": 41,
     "metadata": {},
     "output_type": "execute_result"
    }
   ],
   "source": [
    "np.arange(5,10.5,0.3)"
   ]
  },
  {
   "cell_type": "code",
   "execution_count": 42,
   "id": "fc785124",
   "metadata": {},
   "outputs": [
    {
     "data": {
      "text/plain": [
       "array([ 1.,  2.,  3.,  4.,  2.,  4.,  6.,  8.,  3.,  6.,  9., 12.])"
      ]
     },
     "execution_count": 42,
     "metadata": {},
     "output_type": "execute_result"
    }
   ],
   "source": [
    "a1[a1>0.5]"
   ]
  },
  {
   "cell_type": "code",
   "execution_count": 54,
   "id": "0c1551e1",
   "metadata": {},
   "outputs": [],
   "source": [
    "r = np.random.randn(4,4)"
   ]
  },
  {
   "cell_type": "code",
   "execution_count": 55,
   "id": "f928beb7",
   "metadata": {},
   "outputs": [
    {
     "data": {
      "text/plain": [
       "array([[ 1.03318236, -2.31608128, -0.4067093 ,  0.83017601],\n",
       "       [-1.92278202, -1.15054737, -1.77421629, -0.5984305 ],\n",
       "       [-1.77696497,  0.11137935, -0.27154965,  0.36310119],\n",
       "       [ 0.93808066,  0.27767297, -0.09251133,  1.62730947]])"
      ]
     },
     "execution_count": 55,
     "metadata": {},
     "output_type": "execute_result"
    }
   ],
   "source": [
    "r"
   ]
  },
  {
   "cell_type": "code",
   "execution_count": 56,
   "id": "34fb3c25",
   "metadata": {},
   "outputs": [
    {
     "data": {
      "text/plain": [
       "array([[-1.15054737, -1.77421629],\n",
       "       [ 0.11137935, -0.27154965]])"
      ]
     },
     "execution_count": 56,
     "metadata": {},
     "output_type": "execute_result"
    }
   ],
   "source": [
    "r[1:3 , 1:3]"
   ]
  },
  {
   "cell_type": "code",
   "execution_count": 46,
   "id": "5504a78e",
   "metadata": {},
   "outputs": [],
   "source": [
    "arr = np.random.randn(4,4)"
   ]
  },
  {
   "cell_type": "code",
   "execution_count": 47,
   "id": "0e02fc26",
   "metadata": {},
   "outputs": [
    {
     "data": {
      "text/plain": [
       "array([[ 0.93523739, -2.1748442 ,  0.09307164, -0.43511958],\n",
       "       [-0.8522948 ,  0.58899928,  1.45346789, -0.28554455],\n",
       "       [-0.2708665 , -1.00871287,  0.3788683 , -0.73114178],\n",
       "       [ 1.41506765,  0.48555479,  0.50529174,  0.52416558]])"
      ]
     },
     "execution_count": 47,
     "metadata": {},
     "output_type": "execute_result"
    }
   ],
   "source": [
    "arr"
   ]
  },
  {
   "cell_type": "code",
   "execution_count": 48,
   "id": "2eff2bcf",
   "metadata": {},
   "outputs": [
    {
     "data": {
      "text/plain": [
       "array([-1.00871287,  0.50529174])"
      ]
     },
     "execution_count": 48,
     "metadata": {},
     "output_type": "execute_result"
    }
   ],
   "source": [
    "arr[[2,3],[1,2]]"
   ]
  },
  {
   "cell_type": "code",
   "execution_count": 51,
   "id": "b6a9769d",
   "metadata": {},
   "outputs": [],
   "source": [
    "arr[2][1]=1"
   ]
  },
  {
   "cell_type": "code",
   "execution_count": 52,
   "id": "8238a2b5",
   "metadata": {},
   "outputs": [
    {
     "data": {
      "text/plain": [
       "array([[ 0.93523739, -2.1748442 ,  0.09307164, -0.43511958],\n",
       "       [-0.8522948 ,  0.58899928,  1.45346789, -0.28554455],\n",
       "       [-0.2708665 ,  1.        ,  0.3788683 , -0.73114178],\n",
       "       [ 1.41506765,  0.48555479,  0.50529174,  0.52416558]])"
      ]
     },
     "execution_count": 52,
     "metadata": {},
     "output_type": "execute_result"
    }
   ],
   "source": [
    "arr"
   ]
  },
  {
   "cell_type": "code",
   "execution_count": 57,
   "id": "687a99fc",
   "metadata": {},
   "outputs": [
    {
     "data": {
      "text/plain": [
       "array([[ 0.96627077,  5.03711593, -0.0378531 , -0.36122583],\n",
       "       [ 1.63877712, -0.67767158, -2.57876642,  0.17087857],\n",
       "       [ 0.48132028,  0.11137935, -0.10288155, -0.26547845],\n",
       "       [ 1.3274476 ,  0.13482544, -0.04674521,  0.85297961]])"
      ]
     },
     "execution_count": 57,
     "metadata": {},
     "output_type": "execute_result"
    }
   ],
   "source": [
    "arr*r #Here, just elements got multiplied not the matrixes"
   ]
  },
  {
   "cell_type": "code",
   "execution_count": 58,
   "id": "ae330818",
   "metadata": {},
   "outputs": [
    {
     "data": {
      "text/plain": [
       "array([[ 4.5744598 ,  0.22572078,  3.49325419,  1.40362495],\n",
       "       [-4.86371854,  1.37891076, -1.0666485 , -0.99694325],\n",
       "       [-3.56174217, -0.68401875, -1.69929502, -1.87552378],\n",
       "       [ 0.12223078, -3.63423979, -1.62270345,  1.92063606]])"
      ]
     },
     "execution_count": 58,
     "metadata": {},
     "output_type": "execute_result"
    }
   ],
   "source": [
    "arr@r #Here, Matrixes got multiplied"
   ]
  },
  {
   "cell_type": "code",
   "execution_count": 59,
   "id": "ba17c7ec",
   "metadata": {},
   "outputs": [
    {
     "name": "stderr",
     "output_type": "stream",
     "text": [
      "C:\\Users\\DELL\\AppData\\Local\\Temp\\ipykernel_9864\\587663947.py:1: RuntimeWarning: divide by zero encountered in true_divide\n",
      "  arr/0\n"
     ]
    },
    {
     "data": {
      "text/plain": [
       "array([[ inf, -inf,  inf, -inf],\n",
       "       [-inf,  inf,  inf, -inf],\n",
       "       [-inf,  inf,  inf, -inf],\n",
       "       [ inf,  inf,  inf,  inf]])"
      ]
     },
     "execution_count": 59,
     "metadata": {},
     "output_type": "execute_result"
    }
   ],
   "source": [
    "arr/0     # In matrix we can divide the elements of it with 0."
   ]
  },
  {
   "cell_type": "code",
   "execution_count": 60,
   "id": "8ba47252",
   "metadata": {},
   "outputs": [
    {
     "data": {
      "text/plain": [
       "array([[0., 0., 0., 0., 0.],\n",
       "       [0., 0., 0., 0., 0.],\n",
       "       [0., 0., 0., 0., 0.],\n",
       "       [0., 0., 0., 0., 0.],\n",
       "       [0., 0., 0., 0., 0.]])"
      ]
     },
     "execution_count": 60,
     "metadata": {},
     "output_type": "execute_result"
    }
   ],
   "source": [
    "np.zeros((5,5))"
   ]
  },
  {
   "cell_type": "code",
   "execution_count": 61,
   "id": "a37e40f7",
   "metadata": {},
   "outputs": [
    {
     "data": {
      "text/plain": [
       "array([[9., 9., 9., 9., 9.],\n",
       "       [9., 9., 9., 9., 9.],\n",
       "       [9., 9., 9., 9., 9.],\n",
       "       [9., 9., 9., 9., 9.]])"
      ]
     },
     "execution_count": 61,
     "metadata": {},
     "output_type": "execute_result"
    }
   ],
   "source": [
    "9+np.zeros((4,5))   # Broadcasting"
   ]
  },
  {
   "cell_type": "code",
   "execution_count": 62,
   "id": "4ec14dcc",
   "metadata": {},
   "outputs": [
    {
     "data": {
      "text/plain": [
       "array([[1., 1., 1., 1., 1., 1., 1.],\n",
       "       [1., 1., 1., 1., 1., 1., 1.],\n",
       "       [1., 1., 1., 1., 1., 1., 1.],\n",
       "       [1., 1., 1., 1., 1., 1., 1.],\n",
       "       [1., 1., 1., 1., 1., 1., 1.],\n",
       "       [1., 1., 1., 1., 1., 1., 1.]])"
      ]
     },
     "execution_count": 62,
     "metadata": {},
     "output_type": "execute_result"
    }
   ],
   "source": [
    "np.ones((6,7))"
   ]
  },
  {
   "cell_type": "code",
   "execution_count": 63,
   "id": "3b9e9f0d",
   "metadata": {},
   "outputs": [
    {
     "data": {
      "text/plain": [
       "array([[9., 9., 9., 9., 9., 9., 9.],\n",
       "       [9., 9., 9., 9., 9., 9., 9.],\n",
       "       [9., 9., 9., 9., 9., 9., 9.],\n",
       "       [9., 9., 9., 9., 9., 9., 9.],\n",
       "       [9., 9., 9., 9., 9., 9., 9.],\n",
       "       [9., 9., 9., 9., 9., 9., 9.]])"
      ]
     },
     "execution_count": 63,
     "metadata": {},
     "output_type": "execute_result"
    }
   ],
   "source": [
    "9*np.ones((6,7))"
   ]
  },
  {
   "cell_type": "code",
   "execution_count": 65,
   "id": "57694a1d",
   "metadata": {},
   "outputs": [
    {
     "data": {
      "text/plain": [
       "array([[0.56347501, 0.88627918, 0.35794144, 0.17451461, 2.31251165,\n",
       "        0.97030246],\n",
       "       [0.73318884, 0.56281626, 1.8232534 , 1.59927564, 0.09732468,\n",
       "        0.27304295],\n",
       "       [0.77476719, 1.03891559, 2.22378851, 1.03749271, 1.58911106,\n",
       "        0.54048026],\n",
       "       [1.56809723, 1.14125327, 0.73806086, 0.13856274, 0.01623069,\n",
       "        1.9365098 ]])"
      ]
     },
     "execution_count": 65,
     "metadata": {},
     "output_type": "execute_result"
    }
   ],
   "source": [
    "np.empty((4,6))    #Valyse are nearly zero"
   ]
  },
  {
   "cell_type": "code",
   "execution_count": 66,
   "id": "74c6c359",
   "metadata": {},
   "outputs": [
    {
     "data": {
      "text/plain": [
       "array([2. , 2.5, 3. , 3.5, 4. , 4.5, 5. , 5.5, 6. ])"
      ]
     },
     "execution_count": 66,
     "metadata": {},
     "output_type": "execute_result"
    }
   ],
   "source": [
    "np.linspace(2,6,9)"
   ]
  },
  {
   "cell_type": "code",
   "execution_count": 67,
   "id": "8d9bf4e5",
   "metadata": {},
   "outputs": [
    {
     "data": {
      "text/plain": [
       "(array([2.        , 2.44444444, 2.88888889, 3.33333333, 3.77777778,\n",
       "        4.22222222, 4.66666667, 5.11111111, 5.55555556]),\n",
       " 0.4444444444444444)"
      ]
     },
     "execution_count": 67,
     "metadata": {},
     "output_type": "execute_result"
    }
   ],
   "source": [
    "np.linspace(2,6,9,endpoint=False,retstep=True)"
   ]
  },
  {
   "cell_type": "code",
   "execution_count": 68,
   "id": "17a54396",
   "metadata": {},
   "outputs": [
    {
     "data": {
      "text/plain": [
       "array([ 4,  6,  8, 10, 12, 14, 16, 18, 20, 22, 24, 26, 28, 30, 32, 34, 36,\n",
       "       38])"
      ]
     },
     "execution_count": 68,
     "metadata": {},
     "output_type": "execute_result"
    }
   ],
   "source": [
    "np.arange(4,40,2)"
   ]
  },
  {
   "cell_type": "code",
   "execution_count": 69,
   "id": "a299b9fa",
   "metadata": {},
   "outputs": [
    {
     "data": {
      "text/plain": [
       "18"
      ]
     },
     "execution_count": 69,
     "metadata": {},
     "output_type": "execute_result"
    }
   ],
   "source": [
    "np.arange(4,40,2).size"
   ]
  },
  {
   "cell_type": "code",
   "execution_count": 102,
   "id": "5264e2ab",
   "metadata": {},
   "outputs": [],
   "source": [
    "x = np.arange(4,40,2).reshape(6,3)"
   ]
  },
  {
   "cell_type": "code",
   "execution_count": 103,
   "id": "bee55470",
   "metadata": {},
   "outputs": [
    {
     "data": {
      "text/plain": [
       "array([[ 4,  6,  8],\n",
       "       [10, 12, 14],\n",
       "       [16, 18, 20],\n",
       "       [22, 24, 26],\n",
       "       [28, 30, 32],\n",
       "       [34, 36, 38]])"
      ]
     },
     "execution_count": 103,
     "metadata": {},
     "output_type": "execute_result"
    }
   ],
   "source": [
    "x"
   ]
  },
  {
   "cell_type": "code",
   "execution_count": 104,
   "id": "4182826b",
   "metadata": {},
   "outputs": [
    {
     "data": {
      "text/plain": [
       "38"
      ]
     },
     "execution_count": 104,
     "metadata": {},
     "output_type": "execute_result"
    }
   ],
   "source": [
    "x.max()"
   ]
  },
  {
   "cell_type": "code",
   "execution_count": 105,
   "id": "9fc80e7f",
   "metadata": {},
   "outputs": [
    {
     "data": {
      "text/plain": [
       "array([34, 36, 38])"
      ]
     },
     "execution_count": 105,
     "metadata": {},
     "output_type": "execute_result"
    }
   ],
   "source": [
    "x.max(axis = 0)"
   ]
  },
  {
   "cell_type": "code",
   "execution_count": 106,
   "id": "38ab6760",
   "metadata": {},
   "outputs": [
    {
     "data": {
      "text/plain": [
       "array([ 8, 14, 20, 26, 32, 38])"
      ]
     },
     "execution_count": 106,
     "metadata": {},
     "output_type": "execute_result"
    }
   ],
   "source": [
    "x.max(axis = 1)"
   ]
  },
  {
   "cell_type": "code",
   "execution_count": 107,
   "id": "e46f7f46",
   "metadata": {},
   "outputs": [
    {
     "data": {
      "text/plain": [
       "array([[      16384,      279936,     2097152],\n",
       "       [   10000000,    35831808,   105413504],\n",
       "       [  268435456,   612220032,  1280000000],\n",
       "       [-1800609408,   291504128,  -558124416],\n",
       "       [  608026624,   395163520,           0],\n",
       "       [  983742592,  1054752768, -1548534400]], dtype=int32)"
      ]
     },
     "execution_count": 107,
     "metadata": {},
     "output_type": "execute_result"
    }
   ],
   "source": [
    "x**7"
   ]
  },
  {
   "cell_type": "code",
   "execution_count": 108,
   "id": "9bc07954",
   "metadata": {},
   "outputs": [
    {
     "data": {
      "text/plain": [
       "array([[2.        , 2.44948974, 2.82842712],\n",
       "       [3.16227766, 3.46410162, 3.74165739],\n",
       "       [4.        , 4.24264069, 4.47213595],\n",
       "       [4.69041576, 4.89897949, 5.09901951],\n",
       "       [5.29150262, 5.47722558, 5.65685425],\n",
       "       [5.83095189, 6.        , 6.164414  ]])"
      ]
     },
     "execution_count": 108,
     "metadata": {},
     "output_type": "execute_result"
    }
   ],
   "source": [
    "x**0.5  #Squareroot"
   ]
  },
  {
   "cell_type": "code",
   "execution_count": 109,
   "id": "0cb78253",
   "metadata": {},
   "outputs": [
    {
     "data": {
      "text/plain": [
       "array([[2.        , 2.44948974, 2.82842712],\n",
       "       [3.16227766, 3.46410162, 3.74165739],\n",
       "       [4.        , 4.24264069, 4.47213595],\n",
       "       [4.69041576, 4.89897949, 5.09901951],\n",
       "       [5.29150262, 5.47722558, 5.65685425],\n",
       "       [5.83095189, 6.        , 6.164414  ]])"
      ]
     },
     "execution_count": 109,
     "metadata": {},
     "output_type": "execute_result"
    }
   ],
   "source": [
    "np.sqrt(x)"
   ]
  },
  {
   "cell_type": "code",
   "execution_count": 110,
   "id": "4197a3f6",
   "metadata": {},
   "outputs": [
    {
     "data": {
      "text/plain": [
       "array([[2.        , 2.44948974, 2.82842712],\n",
       "       [3.16227766, 3.46410162, 3.74165739],\n",
       "       [4.        , 4.24264069, 4.47213595],\n",
       "       [4.69041576, 4.89897949, 5.09901951],\n",
       "       [5.29150262, 5.47722558, 5.65685425],\n",
       "       [5.83095189, 6.        , 6.164414  ]])"
      ]
     },
     "execution_count": 110,
     "metadata": {},
     "output_type": "execute_result"
    }
   ],
   "source": [
    "pow(x,0.5)"
   ]
  },
  {
   "cell_type": "code",
   "execution_count": 111,
   "id": "59801143",
   "metadata": {},
   "outputs": [
    {
     "data": {
      "text/plain": [
       "array([[0.60205999, 0.77815125, 0.90308999],\n",
       "       [1.        , 1.07918125, 1.14612804],\n",
       "       [1.20411998, 1.25527251, 1.30103   ],\n",
       "       [1.34242268, 1.38021124, 1.41497335],\n",
       "       [1.44715803, 1.47712125, 1.50514998],\n",
       "       [1.53147892, 1.5563025 , 1.5797836 ]])"
      ]
     },
     "execution_count": 111,
     "metadata": {},
     "output_type": "execute_result"
    }
   ],
   "source": [
    "np.log10(x)"
   ]
  },
  {
   "cell_type": "code",
   "execution_count": 80,
   "id": "58ad3ed1",
   "metadata": {},
   "outputs": [],
   "source": [
    "c = np.linspace(35,87,6)"
   ]
  },
  {
   "cell_type": "code",
   "execution_count": 81,
   "id": "8657719a",
   "metadata": {},
   "outputs": [
    {
     "data": {
      "text/plain": [
       "array([35. , 45.4, 55.8, 66.2, 76.6, 87. ])"
      ]
     },
     "execution_count": 81,
     "metadata": {},
     "output_type": "execute_result"
    }
   ],
   "source": [
    "c"
   ]
  },
  {
   "cell_type": "code",
   "execution_count": 82,
   "id": "df98473a",
   "metadata": {},
   "outputs": [],
   "source": [
    "c = c.reshape(6,-1)"
   ]
  },
  {
   "cell_type": "code",
   "execution_count": 83,
   "id": "3a187eb7",
   "metadata": {},
   "outputs": [
    {
     "data": {
      "text/plain": [
       "array([[35. ],\n",
       "       [45.4],\n",
       "       [55.8],\n",
       "       [66.2],\n",
       "       [76.6],\n",
       "       [87. ]])"
      ]
     },
     "execution_count": 83,
     "metadata": {},
     "output_type": "execute_result"
    }
   ],
   "source": [
    "c"
   ]
  },
  {
   "cell_type": "code",
   "execution_count": 86,
   "id": "1faf06d1",
   "metadata": {},
   "outputs": [
    {
     "data": {
      "text/plain": [
       "array([[ 39. ,  41. ,  43. ],\n",
       "       [ 55.4,  57.4,  59.4],\n",
       "       [ 71.8,  73.8,  75.8],\n",
       "       [ 88.2,  90.2,  92.2],\n",
       "       [104.6, 106.6, 108.6],\n",
       "       [121. , 123. , 125. ]])"
      ]
     },
     "execution_count": 86,
     "metadata": {},
     "output_type": "execute_result"
    }
   ],
   "source": [
    "c+x"
   ]
  },
  {
   "cell_type": "code",
   "execution_count": 88,
   "id": "1aa3472f",
   "metadata": {},
   "outputs": [
    {
     "data": {
      "text/plain": [
       "array([[1.58601345e+15],\n",
       "       [5.21158084e+19],\n",
       "       [1.71250595e+24],\n",
       "       [5.62723046e+28],\n",
       "       [1.84908687e+33],\n",
       "       [6.07603023e+37]])"
      ]
     },
     "execution_count": 88,
     "metadata": {},
     "output_type": "execute_result"
    }
   ],
   "source": [
    "np.exp(c)   #Exponent value"
   ]
  },
  {
   "cell_type": "code",
   "execution_count": 89,
   "id": "71222331",
   "metadata": {},
   "outputs": [],
   "source": [
    "d = x      # Shallow copy"
   ]
  },
  {
   "cell_type": "code",
   "execution_count": 90,
   "id": "527be871",
   "metadata": {},
   "outputs": [
    {
     "data": {
      "text/plain": [
       "array([[ 4,  6,  8],\n",
       "       [10, 12, 14],\n",
       "       [16, 18, 20],\n",
       "       [22, 24, 26],\n",
       "       [28, 30, 32],\n",
       "       [34, 36, 38]])"
      ]
     },
     "execution_count": 90,
     "metadata": {},
     "output_type": "execute_result"
    }
   ],
   "source": [
    "d"
   ]
  },
  {
   "cell_type": "code",
   "execution_count": 91,
   "id": "92207a0b",
   "metadata": {},
   "outputs": [],
   "source": [
    "e = np.copy(x)   # Deep copy"
   ]
  },
  {
   "cell_type": "code",
   "execution_count": 92,
   "id": "707216ae",
   "metadata": {},
   "outputs": [
    {
     "data": {
      "text/plain": [
       "array([[ 4,  6,  8],\n",
       "       [10, 12, 14],\n",
       "       [16, 18, 20],\n",
       "       [22, 24, 26],\n",
       "       [28, 30, 32],\n",
       "       [34, 36, 38]])"
      ]
     },
     "execution_count": 92,
     "metadata": {},
     "output_type": "execute_result"
    }
   ],
   "source": [
    "e"
   ]
  },
  {
   "cell_type": "code",
   "execution_count": 95,
   "id": "71518f13",
   "metadata": {},
   "outputs": [],
   "source": [
    "x[0][1] = 999"
   ]
  },
  {
   "cell_type": "code",
   "execution_count": 96,
   "id": "9189d767",
   "metadata": {},
   "outputs": [
    {
     "data": {
      "text/plain": [
       "array([[  4, 999,   8],\n",
       "       [ 10,  12,  14],\n",
       "       [ 16,  18,  20],\n",
       "       [ 22,  24,  26],\n",
       "       [ 28,  30,  32],\n",
       "       [ 34,  36,  38]])"
      ]
     },
     "execution_count": 96,
     "metadata": {},
     "output_type": "execute_result"
    }
   ],
   "source": [
    "x"
   ]
  },
  {
   "cell_type": "code",
   "execution_count": 97,
   "id": "3d43d9a6",
   "metadata": {},
   "outputs": [
    {
     "data": {
      "text/plain": [
       "array([[  4, 999,   8],\n",
       "       [ 10,  12,  14],\n",
       "       [ 16,  18,  20],\n",
       "       [ 22,  24,  26],\n",
       "       [ 28,  30,  32],\n",
       "       [ 34,  36,  38]])"
      ]
     },
     "execution_count": 97,
     "metadata": {},
     "output_type": "execute_result"
    }
   ],
   "source": [
    "d"
   ]
  },
  {
   "cell_type": "code",
   "execution_count": 98,
   "id": "cfb3d137",
   "metadata": {},
   "outputs": [
    {
     "data": {
      "text/plain": [
       "array([[ 4,  6,  8],\n",
       "       [10, 12, 14],\n",
       "       [16, 18, 20],\n",
       "       [22, 24, 26],\n",
       "       [28, 30, 32],\n",
       "       [34, 36, 38]])"
      ]
     },
     "execution_count": 98,
     "metadata": {},
     "output_type": "execute_result"
    }
   ],
   "source": [
    "e"
   ]
  },
  {
   "cell_type": "code",
   "execution_count": null,
   "id": "c97c2893",
   "metadata": {},
   "outputs": [],
   "source": []
  },
  {
   "cell_type": "code",
   "execution_count": null,
   "id": "0579c2c9",
   "metadata": {},
   "outputs": [],
   "source": []
  }
 ],
 "metadata": {
  "kernelspec": {
   "display_name": "Python 3 (ipykernel)",
   "language": "python",
   "name": "python3"
  },
  "language_info": {
   "codemirror_mode": {
    "name": "ipython",
    "version": 3
   },
   "file_extension": ".py",
   "mimetype": "text/x-python",
   "name": "python",
   "nbconvert_exporter": "python",
   "pygments_lexer": "ipython3",
   "version": "3.9.12"
  }
 },
 "nbformat": 4,
 "nbformat_minor": 5
}
